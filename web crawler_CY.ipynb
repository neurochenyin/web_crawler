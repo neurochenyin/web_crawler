{
 "cells": [
  {
   "cell_type": "code",
   "execution_count": null,
   "id": "0d8239df",
   "metadata": {},
   "outputs": [],
   "source": []
  },
  {
   "cell_type": "code",
   "execution_count": 7,
   "id": "7277868e",
   "metadata": {},
   "outputs": [
    {
     "name": "stdout",
     "output_type": "stream",
     "text": [
      "Contents saved to Sample_data.csv\n"
     ]
    }
   ],
   "source": [
    "import requests\n",
    "from bs4 import BeautifulSoup\n",
    "import csv\n",
    "\n",
    "# URL of the Wikipedia page to crawl\n",
    "url = \"https://en.wikipedia.org/wiki/Healthcare_in_the_United_States\"\n",
    "\n",
    "# Send an HTTP request and get the HTML content\n",
    "response = requests.get(url)\n",
    "html_content = response.text\n",
    "\n",
    "# Parse the HTML using BeautifulSoup\n",
    "soup = BeautifulSoup(html_content, \"html.parser\")\n",
    "\n",
    "# Find the main content div where the paragraphs are located\n",
    "content_div = soup.find(\"div\", class_=\"mw-parser-output\")\n",
    "\n",
    "# Find all paragraphs within the content div\n",
    "paragraphs = content_div.find_all(\"p\")\n",
    "\n",
    "# Extract the content of the first two paragraphs\n",
    "if len(paragraphs) >= 2:\n",
    "    paragraph1 = paragraphs[0].get_text()\n",
    "    paragraph2 = paragraphs[1].get_text()\n",
    "else:\n",
    "    raise ValueError(\"There are less than two paragraphs on the page.\")\n",
    "\n",
    "# Save the contents to a CSV file\n",
    "csv_filename = \"Sample_data.csv\"\n",
    "with open(csv_filename, \"w\", newline=\"\", encoding=\"utf-8\") as csv_file:\n",
    "    csv_writer = csv.writer(csv_file)\n",
    "    csv_writer.writerow([\"Paragraph 1\", \"Paragraph 2\"])\n",
    "    csv_writer.writerow([paragraph1, paragraph2])\n",
    "\n",
    "print(f\"Contents saved to {csv_filename}\")\n"
   ]
  },
  {
   "cell_type": "code",
   "execution_count": 8,
   "id": "fea4bb2e",
   "metadata": {},
   "outputs": [
    {
     "data": {
      "text/plain": [
       "'\\n'"
      ]
     },
     "execution_count": 8,
     "metadata": {},
     "output_type": "execute_result"
    }
   ],
   "source": [
    "paragraph1"
   ]
  },
  {
   "cell_type": "code",
   "execution_count": 9,
   "id": "190b79a2",
   "metadata": {},
   "outputs": [
    {
     "data": {
      "text/plain": [
       "'Healthcare in the United States is largely provided by private sector healthcare facilities, and paid for by a combination of public programs, private insurance, and out-of-pocket payments. The U.S. is the only developed country without a system of universal healthcare, and a significant proportion of its population lacks health insurance.[2][3][4][5] The United States spends more on healthcare than any other country, both in absolute terms and as a percentage of GDP;[2] however, this expenditure does not necessarily translate into better overall health outcomes compared to other developed nations.[6] Coverage varies widely across the population, with certain groups, such as the elderly and low-income individuals, receiving more comprehensive care through government programs such as Medicaid and Medicare.\\n'"
      ]
     },
     "execution_count": 9,
     "metadata": {},
     "output_type": "execute_result"
    }
   ],
   "source": [
    "paragraph2"
   ]
  },
  {
   "cell_type": "code",
   "execution_count": null,
   "id": "e9f35524",
   "metadata": {},
   "outputs": [],
   "source": []
  }
 ],
 "metadata": {
  "kernelspec": {
   "display_name": "Python 3 (ipykernel)",
   "language": "python",
   "name": "python3"
  },
  "language_info": {
   "codemirror_mode": {
    "name": "ipython",
    "version": 3
   },
   "file_extension": ".py",
   "mimetype": "text/x-python",
   "name": "python",
   "nbconvert_exporter": "python",
   "pygments_lexer": "ipython3",
   "version": "3.9.7"
  }
 },
 "nbformat": 4,
 "nbformat_minor": 5
}
